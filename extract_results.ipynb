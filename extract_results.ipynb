{
 "cells": [
  {
   "cell_type": "code",
   "execution_count": 1,
   "metadata": {
    "collapsed": true
   },
   "outputs": [],
   "source": [
    "import numpy as np\n",
    "import os"
   ]
  },
  {
   "cell_type": "code",
   "execution_count": 2,
   "outputs": [],
   "source": [
    "\n",
    "def get_best_model(task_searches, checkpoint):\n",
    "    log_files_a = os.listdir(checkpoint+\"/\")\n",
    "    log_files_bs = [[] for _ in range(len(task_searches))]\n",
    "\n",
    "    for file in log_files_a:\n",
    "        file_split = file.split(\".\")\n",
    "        if(file_split[-1]==\"txt\"):\n",
    "            file_split_2 = file_split[0].split(\"_\")\n",
    "            if file_split_2[0]==\"session\":\n",
    "                for idx, task_search in enumerate(task_searches):\n",
    "                    if file_split_2[1]==str(task_search):\n",
    "                        log_files_bs[idx].append(file)\n",
    "\n",
    "    best_acces, best_acc_bes = [], []\n",
    "    for idx, task_search in enumerate(task_searches):\n",
    "        best_acc = []\n",
    "        best_acc_b = []\n",
    "        for file in log_files_bs[idx]:\n",
    "            try:\n",
    "                f = np.loadtxt(checkpoint+\"/\"+file, skiprows=1)\n",
    "                best_acc.append(max(f[-1,-1], f[-1,-2]) )\n",
    "                best_acc_b.append(int(file.split(\"_\")[2]))\n",
    "            except:\n",
    "                pass\n",
    "\n",
    "        bets_acc = np.array(best_acc)\n",
    "        bets_acc_b = np.array(best_acc_b)\n",
    "\n",
    "        a = np.argmax(best_acc)\n",
    "        # print(best_acc[a], best_acc_b[a])\n",
    "        best_acces.append(best_acc[a])\n",
    "        best_acc_bes.append(best_acc_b[a])\n",
    "\n",
    "    return best_acces, best_acc_bes"
   ],
   "metadata": {
    "collapsed": false,
    "pycharm": {
     "name": "#%%\n"
    }
   }
  },
  {
   "cell_type": "code",
   "execution_count": 12,
   "outputs": [
    {
     "name": "stdout",
     "output_type": "stream",
     "text": [
      "[39.0, 38.0, 29.0, 36.0, 34.0, 33.0, 46.0, 31.0, 40.0, 43.0, 37.0, 43.0, 35.0, 30.0, 33.0, 36.0, 32.0, 41.0, 38.0, 35.0, 29.0, 36.0, 36.0, 34.0, 37.0, 35.0, 37.0, 32.0, 28.0, 32.0, 40.0, 34.0, 36.0, 30.0, 29.0, 42.0, 33.0, 36.0, 28.0, 37.0, 39.0, 40.0, 36.0, 34.0, 34.0, 30.0, 49.0, 32.0, 39.0, 30.0, 44.0, 36.0, 52.0, 39.0, 32.0, 40.0, 39.0, 36.0, 38.0, 33.0, 39.0, 38.0, 44.0, 43.0, 32.0, 29.0, 37.0, 40.0, 34.0, 38.0, 34.0, 41.0, 31.0, 33.0, 36.0, 41.0, 29.0, 28.0, 36.0, 30.0, 42.0, 36.0, 32.0, 36.0, 29.0, 39.0, 40.0, 34.0, 41.0, 30.0, 33.0, 39.0, 33.0, 32.0, 33.0, 32.0, 39.0, 30.0, 39.0, 35.0, 32.0, 34.0, 28.0, 42.0, 29.0, 30.0, 29.0, 34.0, 34.0, 39.0, 36.0, 41.0, 30.0, 34.0, 31.0, 28.0, 33.0, 40.0, 34.0, 38.0, 61.0, 46.0, 33.0, 45.0, 30.0, 39.0, 27.0, 35.0, 29.0, 41.0, 31.0, 33.0, 36.0, 38.0, 32.0, 43.0, 26.0, 35.0, 35.0, 31.0, 33.0, 38.0, 38.0, 34.0, 28.0, 44.0, 30.0, 39.0, 32.0, 36.0, 33.0, 29.0, 37.0, 37.0, 39.0, 41.0, 37.0, 40.0, 41.0, 29.0, 30.0, 41.0, 41.0, 35.0, 32.0, 30.0, 31.0, 32.0, 32.0, 28.0, 29.0, 37.0, 36.0, 29.0, 30.0, 45.0, 36.0, 41.0, 33.0, 34.0, 42.0, 35.0, 42.0, 38.0, 35.0, 29.0, 30.0, 31.0, 34.0, 28.0, 41.0, 41.0, 29.0, 36.0, 28.0, 40.0, 38.0, 38.0, 42.0, 28.0, 36.0, 33.0, 32.0, 29.0, 35.0, 24.0, 39.0, 35.0, 30.0, 42.0, 40.0, 40.0, 34.0, 34.0, 35.0, 28.0, 38.0, 30.0, 36.0, 30.0, 29.0, 35.0, 28.0, 28.0, 35.0, 35.0, 37.0, 36.0, 44.0, 34.0, 35.0, 31.0, 30.0, 38.0, 36.0, 35.0, 34.0, 51.0, 38.0, 36.0, 36.0, 26.0, 38.0, 34.0, 35.0, 37.0, 44.0, 38.0, 35.0, 41.0, 35.0, 34.0, 38.0, 46.0, 36.0, 43.0, 34.0, 26.0, 37.0, 35.0, 38.0, 40.0, 33.0, 30.0, 35.0, 26.0, 31.0, 32.0, 32.0, 29.0, 36.0, 35.0, 34.0, 34.0, 37.0, 26.0, 38.0, 36.0, 39.0, 46.0, 34.0, 31.0, 34.0, 40.0, 46.0, 35.0, 32.0, 37.0, 36.0, 28.0, 40.0, 35.0, 33.0, 36.0, 36.0, 43.0, 30.0, 33.0, 29.0, 42.0]\n",
      "35.31% +- 0.57%\n"
     ]
    }
   ],
   "source": [
    "# checkpoint = \"../RPSnet-experiments/results/cgqa/RPSnet-cls\"\n",
    "checkpoint = \"../RPSnet-experiments/results/cgqa/RPSnet-tsk\"\n",
    "\n",
    "# sesses = np.arange(0, 10)     # continual train\n",
    "# sesses = np.arange(11, 310)   # sys\n",
    "# sesses = np.arange(310, 610)    # pro\n",
    "# sesses = np.arange(610, 910)    # sub\n",
    "# sesses = np.arange(910, 1210)    # non\n",
    "sesses = np.arange(1210, 1510)    # noc\n",
    "\n",
    "accs, _ = get_best_model(sesses, checkpoint)\n",
    "\n",
    "print(accs)\n",
    "print(f'{np.mean(accs):.2f}% +- {1.96 * (np.std(accs)/np.sqrt(300)):.2f}%')"
   ],
   "metadata": {
    "collapsed": false,
    "pycharm": {
     "name": "#%%\n"
    }
   }
  },
  {
   "cell_type": "code",
   "execution_count": null,
   "outputs": [],
   "source": [],
   "metadata": {
    "collapsed": false,
    "pycharm": {
     "name": "#%%\n"
    }
   }
  }
 ],
 "metadata": {
  "kernelspec": {
   "display_name": "Python 3",
   "language": "python",
   "name": "python3"
  },
  "language_info": {
   "codemirror_mode": {
    "name": "ipython",
    "version": 2
   },
   "file_extension": ".py",
   "mimetype": "text/x-python",
   "name": "python",
   "nbconvert_exporter": "python",
   "pygments_lexer": "ipython2",
   "version": "2.7.6"
  }
 },
 "nbformat": 4,
 "nbformat_minor": 0
}