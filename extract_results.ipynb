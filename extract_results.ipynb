{
 "cells": [
  {
   "cell_type": "code",
   "execution_count": 2,
   "metadata": {
    "collapsed": true
   },
   "outputs": [],
   "source": [
    "import numpy as np\n",
    "import os"
   ]
  },
  {
   "cell_type": "code",
   "execution_count": 3,
   "outputs": [],
   "source": [
    "\n",
    "def get_best_model(task_searches, checkpoint):\n",
    "    log_files_a = os.listdir(checkpoint+\"/\")\n",
    "    log_files_bs = [[] for _ in range(len(task_searches))]\n",
    "\n",
    "    for file in log_files_a:\n",
    "        file_split = file.split(\".\")\n",
    "        if(file_split[-1]==\"txt\"):\n",
    "            file_split_2 = file_split[0].split(\"_\")\n",
    "            if file_split_2[0]==\"session\":\n",
    "                for idx, task_search in enumerate(task_searches):\n",
    "                    if file_split_2[1]==str(task_search):\n",
    "                        log_files_bs[idx].append(file)\n",
    "\n",
    "    best_acces, best_acc_bes = [], []\n",
    "    for idx, task_search in enumerate(task_searches):\n",
    "        best_acc = []\n",
    "        best_acc_b = []\n",
    "        for file in log_files_bs[idx]:\n",
    "            try:\n",
    "                f = np.loadtxt(checkpoint+\"/\"+file, skiprows=1)\n",
    "                best_acc.append(max(f[-1,-1], f[-1,-2]) )\n",
    "                best_acc_b.append(int(file.split(\"_\")[2]))\n",
    "            except:\n",
    "                pass\n",
    "\n",
    "        bets_acc = np.array(best_acc)\n",
    "        bets_acc_b = np.array(best_acc_b)\n",
    "\n",
    "        a = np.argmax(best_acc)\n",
    "        # print(best_acc[a], best_acc_b[a])\n",
    "        best_acces.append(best_acc[a])\n",
    "        best_acc_bes.append(best_acc_b[a])\n",
    "\n",
    "    return best_acces, best_acc_bes"
   ],
   "metadata": {
    "collapsed": false,
    "pycharm": {
     "name": "#%%\n"
    }
   }
  },
  {
   "cell_type": "code",
   "execution_count": 5,
   "outputs": [
    {
     "name": "stdout",
     "output_type": "stream",
     "text": [
      "[45.0, 29.8, 18.7, 17.475, 8.88]\n",
      "23.97% +- 1.41%\n"
     ]
    }
   ],
   "source": [
    "# checkpoint = \"../RPSnet-experiments/results/cpin/RPSnet-cls\"\n",
    "# checkpoint = \"../RPSnet-experiments/results/cgqa/RPSnet-resnet-M8-lr1e-3\"\n",
    "checkpoint = \"../RPSnet-experiments/results/cgqa/RPSnet-vit-lr1e-5\"\n",
    "\n",
    "sesses = np.arange(0, 5)     # single\n",
    "# sesses = np.arange(9, 10)     # continual train\n",
    "# sesses = np.arange(10, 310)   # sys\n",
    "# sesses = np.arange(310, 610)    # pro\n",
    "# sesses = np.arange(610, 910)    # sub\n",
    "# sesses = np.arange(910, 1210)    # non\n",
    "# sesses = np.arange(1210, 1510)    # noc\n",
    "\n",
    "accs, _ = get_best_model(sesses, checkpoint)\n",
    "\n",
    "print(accs)\n",
    "print(f'{np.mean(accs):.2f}% +- {1.96 * (np.std(accs)/np.sqrt(300)):.2f}%')"
   ],
   "metadata": {
    "collapsed": false,
    "pycharm": {
     "name": "#%%\n"
    }
   }
  },
  {
   "cell_type": "code",
   "execution_count": 3,
   "outputs": [],
   "source": [],
   "metadata": {
    "collapsed": false,
    "pycharm": {
     "name": "#%%\n"
    }
   }
  }
 ],
 "metadata": {
  "kernelspec": {
   "display_name": "Python 3",
   "language": "python",
   "name": "python3"
  },
  "language_info": {
   "codemirror_mode": {
    "name": "ipython",
    "version": 2
   },
   "file_extension": ".py",
   "mimetype": "text/x-python",
   "name": "python",
   "nbconvert_exporter": "python",
   "pygments_lexer": "ipython2",
   "version": "2.7.6"
  }
 },
 "nbformat": 4,
 "nbformat_minor": 0
}