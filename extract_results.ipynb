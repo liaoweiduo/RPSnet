{
 "cells": [
  {
   "cell_type": "code",
   "execution_count": 1,
   "metadata": {
    "collapsed": true
   },
   "outputs": [],
   "source": [
    "import numpy as np\n",
    "import os"
   ]
  },
  {
   "cell_type": "code",
   "execution_count": 2,
   "outputs": [],
   "source": [
    "\n",
    "def get_best_model(task_searches, checkpoint):\n",
    "    log_files_a = os.listdir(checkpoint+\"/\")\n",
    "    log_files_bs = [[] for _ in range(len(task_searches))]\n",
    "\n",
    "    for file in log_files_a:\n",
    "        file_split = file.split(\".\")\n",
    "        if(file_split[-1]==\"txt\"):\n",
    "            file_split_2 = file_split[0].split(\"_\")\n",
    "            if file_split_2[0]==\"session\":\n",
    "                for idx, task_search in enumerate(task_searches):\n",
    "                    if file_split_2[1]==str(task_search):\n",
    "                        log_files_bs[idx].append(file)\n",
    "\n",
    "    best_acces, best_acc_bes = [], []\n",
    "    for idx, task_search in enumerate(task_searches):\n",
    "        best_acc = []\n",
    "        best_acc_b = []\n",
    "        for file in log_files_bs[idx]:\n",
    "            try:\n",
    "                f = np.loadtxt(checkpoint+\"/\"+file, skiprows=1)\n",
    "                best_acc.append(max(f[-1,-1], f[-1,-2]) )\n",
    "                best_acc_b.append(int(file.split(\"_\")[2]))\n",
    "            except:\n",
    "                pass\n",
    "\n",
    "        bets_acc = np.array(best_acc)\n",
    "        bets_acc_b = np.array(best_acc_b)\n",
    "\n",
    "        a = np.argmax(best_acc)\n",
    "        # print(best_acc[a], best_acc_b[a])\n",
    "        best_acces.append(best_acc[a])\n",
    "        best_acc_bes.append(best_acc_b[a])\n",
    "\n",
    "    return best_acces, best_acc_bes"
   ],
   "metadata": {
    "collapsed": false,
    "pycharm": {
     "name": "#%%\n"
    }
   }
  },
  {
   "cell_type": "code",
   "execution_count": 11,
   "outputs": [
    {
     "name": "stdout",
     "output_type": "stream",
     "text": [
      "[55.0, 42.0, 38.0, 53.0, 52.0, 47.0, 54.0, 40.0, 47.0, 37.0, 51.0, 53.0, 39.0, 41.0, 49.0, 53.0, 45.0, 43.0, 47.0, 41.0, 44.0, 42.0, 52.0, 42.0, 42.0, 49.0, 42.0, 50.0, 49.0, 47.0, 55.0, 35.0, 43.0, 51.0, 40.0, 34.0, 51.0, 44.0, 46.0, 44.0, 44.0, 45.0, 38.0, 47.0, 54.0, 37.0, 48.0, 51.0, 33.0, 48.0, 37.0, 49.0, 46.0, 36.0, 47.0, 42.0, 41.0, 42.0, 41.0, 42.0, 41.0, 35.0, 53.0, 48.0, 39.0, 46.0, 43.0, 47.0, 62.0, 49.0, 46.0, 41.0, 43.0, 45.0, 40.0, 48.0, 36.0, 56.0, 40.0, 53.0, 49.0, 43.0, 40.0, 41.0, 41.0, 55.0, 59.0, 44.0, 49.0, 49.0, 47.0, 37.0, 40.0, 47.0, 40.0, 40.0, 42.0, 48.0, 42.0, 44.0, 51.0, 47.0, 46.0, 47.0, 47.0, 48.0, 39.0, 49.0, 49.0, 47.0, 53.0, 53.0, 38.0, 34.0, 32.0, 44.0, 43.0, 50.0, 48.0, 40.0, 56.0, 51.0, 41.0, 42.0, 50.0, 40.0, 44.0, 51.0, 44.0, 55.0, 43.0, 44.0, 54.0, 44.0, 43.0, 48.0, 44.0, 54.0, 35.0, 57.0, 52.0, 42.0, 47.0, 45.0, 49.0, 50.0, 49.0, 49.0, 33.0, 40.0, 42.0, 49.0, 35.0, 47.0, 50.0, 40.0, 53.0, 41.0, 54.0, 44.0, 40.0, 45.0, 38.0, 55.0, 47.0, 41.0, 48.0, 45.0, 46.0, 48.0, 33.0, 55.0, 46.0, 63.0, 52.0, 49.0, 47.0, 40.0, 46.0, 47.0, 42.0, 44.0, 44.0, 46.0, 41.0, 44.0, 41.0, 41.0, 49.0, 39.0, 49.0, 51.0, 46.0, 44.0, 44.0, 48.0, 41.0, 36.0, 45.0, 52.0, 45.0, 41.0, 44.0, 44.0, 37.0, 46.0, 52.0, 45.0, 48.0, 38.0, 55.0, 45.0, 42.0, 37.0, 44.0, 32.0, 38.0, 44.0, 39.0, 41.0, 47.0, 46.0, 40.0, 42.0, 43.0, 39.0, 41.0, 39.0, 44.0, 44.0, 52.0, 43.0, 43.0, 42.0, 43.0, 41.0, 49.0, 43.0, 45.0, 36.0, 52.0, 47.0, 51.0, 42.0, 40.0, 41.0, 40.0, 54.0, 53.0, 48.0, 54.0, 45.0, 39.0, 51.0, 51.0, 46.0, 45.0, 36.0, 38.0, 51.0, 44.0, 46.0, 42.0, 47.0, 45.0, 49.0, 40.0, 40.0, 38.0, 46.0, 44.0, 39.0, 56.0, 42.0, 47.0, 38.0, 53.0, 48.0, 38.0, 47.0, 36.0, 50.0, 46.0, 48.0, 44.0, 41.0, 40.0, 50.0, 47.0, 43.0, 57.0, 50.0, 40.0, 54.0, 41.0, 49.0, 36.0, 55.0, 44.0, 45.0]\n",
      "45.09% +- 0.64%\n"
     ]
    }
   ],
   "source": [
    "# checkpoint = \"../RPSnet-experiments/results/cpin/RPSnet-cls\"\n",
    "checkpoint = \"../RPSnet-experiments/results/cgqa/RPSnet-resnet-M8-lr1e-3\"\n",
    "\n",
    "# sesses = np.arange(9, 10)     # continual train\n",
    "# sesses = np.arange(10, 310)   # sys\n",
    "# sesses = np.arange(310, 610)    # pro\n",
    "# sesses = np.arange(610, 910)    # sub\n",
    "# sesses = np.arange(910, 1210)    # non\n",
    "sesses = np.arange(1210, 1510)    # noc\n",
    "\n",
    "accs, _ = get_best_model(sesses, checkpoint)\n",
    "\n",
    "print(accs)\n",
    "print(f'{np.mean(accs):.2f}% +- {1.96 * (np.std(accs)/np.sqrt(300)):.2f}%')"
   ],
   "metadata": {
    "collapsed": false,
    "pycharm": {
     "name": "#%%\n"
    }
   }
  },
  {
   "cell_type": "code",
   "execution_count": 3,
   "outputs": [],
   "source": [],
   "metadata": {
    "collapsed": false,
    "pycharm": {
     "name": "#%%\n"
    }
   }
  }
 ],
 "metadata": {
  "kernelspec": {
   "display_name": "Python 3",
   "language": "python",
   "name": "python3"
  },
  "language_info": {
   "codemirror_mode": {
    "name": "ipython",
    "version": 2
   },
   "file_extension": ".py",
   "mimetype": "text/x-python",
   "name": "python",
   "nbconvert_exporter": "python",
   "pygments_lexer": "ipython2",
   "version": "2.7.6"
  }
 },
 "nbformat": 4,
 "nbformat_minor": 0
}