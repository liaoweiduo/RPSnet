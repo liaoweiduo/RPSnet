{
 "cells": [
  {
   "cell_type": "code",
   "execution_count": 10,
   "metadata": {
    "collapsed": true
   },
   "outputs": [],
   "source": [
    "import numpy as np\n",
    "import os"
   ]
  },
  {
   "cell_type": "code",
   "execution_count": 11,
   "outputs": [],
   "source": [
    "\n",
    "def get_best_model(task_search, checkpoint):\n",
    "\n",
    "    log_files_a = os.listdir(checkpoint+\"/\")\n",
    "    log_files_b = []\n",
    "\n",
    "    for file in log_files_a:\n",
    "        file_split = file.split(\".\")\n",
    "        if(file_split[-1]==\"txt\"):\n",
    "            file_split_2 = file_split[0].split(\"_\")\n",
    "            if(file_split_2[0]==\"session\" and file_split_2[1]==str(task_search)):\n",
    "                log_files_b.append(file)\n",
    "\n",
    "    best_acc = []\n",
    "    best_acc_b = []\n",
    "    for file in log_files_b:\n",
    "        try:\n",
    "            f = np.loadtxt(checkpoint+\"/\"+file, skiprows=1)\n",
    "            best_acc.append(max(f[-1,-1], f[-1,-2]) )\n",
    "            best_acc_b.append(int(file.split(\"_\")[2]))\n",
    "        except:\n",
    "            pass\n",
    "\n",
    "    bets_acc = np.array(best_acc)\n",
    "    bets_acc_b = np.array(best_acc_b)\n",
    "\n",
    "    a = np.argmax(best_acc)\n",
    "    # print(best_acc[a], best_acc_b[a])\n",
    "    return best_acc[a], best_acc_b[a]"
   ],
   "metadata": {
    "collapsed": false,
    "pycharm": {
     "name": "#%%\n"
    }
   }
  },
  {
   "cell_type": "code",
   "execution_count": 12,
   "outputs": [
    {
     "name": "stderr",
     "output_type": "stream",
     "text": [
      "C:\\Users\\ASUS\\AppData\\Local\\Temp\\ipykernel_1164\\4185017310.py:17: UserWarning: loadtxt: input contained no data: \"results/sysgqa/RPSnet-2way-10tasks/session_10_0_log.txt\"\n",
      "  f = np.loadtxt(checkpoint+\"/\"+file, skiprows=1)\n"
     ]
    },
    {
     "name": "stdout",
     "output_type": "stream",
     "text": [
      "[67.0, 77.0, 74.0, 75.0, 78.0, 86.0, 67.0, 77.0, 79.0, 71.0]\n",
      "75.10% (5.47%)\n"
     ]
    }
   ],
   "source": [
    "checkpoint = \"results/sysgqa/RPSnet-2way-10tasks\"\n",
    "\n",
    "sesses = np.arange(10, 20)\n",
    "accs = []\n",
    "\n",
    "for ses in sesses:\n",
    "    acc, _ = get_best_model(ses, checkpoint)\n",
    "    accs.append(acc)\n",
    "\n",
    "print(accs)\n",
    "print(f'{np.mean(accs):.2f}% ({np.std(accs):.2f}%)')"
   ],
   "metadata": {
    "collapsed": false,
    "pycharm": {
     "name": "#%%\n"
    }
   }
  },
  {
   "cell_type": "code",
   "execution_count": null,
   "outputs": [],
   "source": [],
   "metadata": {
    "collapsed": false,
    "pycharm": {
     "name": "#%%\n"
    }
   }
  }
 ],
 "metadata": {
  "kernelspec": {
   "display_name": "Python 3",
   "language": "python",
   "name": "python3"
  },
  "language_info": {
   "codemirror_mode": {
    "name": "ipython",
    "version": 2
   },
   "file_extension": ".py",
   "mimetype": "text/x-python",
   "name": "python",
   "nbconvert_exporter": "python",
   "pygments_lexer": "ipython2",
   "version": "2.7.6"
  }
 },
 "nbformat": 4,
 "nbformat_minor": 0
}