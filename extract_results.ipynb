{
 "cells": [
  {
   "cell_type": "code",
   "execution_count": 1,
   "metadata": {
    "collapsed": true
   },
   "outputs": [],
   "source": [
    "import numpy as np\n",
    "import os"
   ]
  },
  {
   "cell_type": "code",
   "execution_count": 10,
   "outputs": [],
   "source": [
    "\n",
    "def get_best_model(task_searches, checkpoint):\n",
    "    log_files_a = os.listdir(checkpoint+\"/\")\n",
    "    log_files_bs = [[] for _ in range(len(task_searches))]\n",
    "\n",
    "    for file in log_files_a:\n",
    "        file_split = file.split(\".\")\n",
    "        if(file_split[-1]==\"txt\"):\n",
    "            file_split_2 = file_split[0].split(\"_\")\n",
    "            if file_split_2[0]==\"session\":\n",
    "                for idx, task_search in enumerate(task_searches):\n",
    "                    if file_split_2[1]==str(task_search):\n",
    "                        log_files_bs[idx].append(file)\n",
    "\n",
    "    best_acces, best_acc_bes = [], []\n",
    "    for idx, task_search in enumerate(task_searches):\n",
    "        best_acc = []\n",
    "        best_acc_b = []\n",
    "        for file in log_files_bs[idx]:\n",
    "            try:\n",
    "                f = np.loadtxt(checkpoint+\"/\"+file, skiprows=1)\n",
    "                best_acc.append(max(f[-1,-1], f[-1,-2]) )\n",
    "                best_acc_b.append(int(file.split(\"_\")[2]))\n",
    "            except:\n",
    "                pass\n",
    "\n",
    "        bets_acc = np.array(best_acc)\n",
    "        bets_acc_b = np.array(best_acc_b)\n",
    "\n",
    "        a = np.argmax(best_acc)\n",
    "        # print(best_acc[a], best_acc_b[a])\n",
    "        best_acces.append(best_acc[a])\n",
    "        best_acc_bes.append(best_acc_b[a])\n",
    "\n",
    "    return best_acces, best_acc_bes"
   ],
   "metadata": {
    "collapsed": false,
    "pycharm": {
     "name": "#%%\n"
    }
   }
  },
  {
   "cell_type": "code",
   "execution_count": 12,
   "outputs": [
    {
     "name": "stdout",
     "output_type": "stream",
     "text": [
      "[57.0, 51.0, 41.0, 64.0, 51.0, 74.0, 77.0, 49.0, 62.0, 58.0, 70.0, 45.0, 63.0, 72.0, 54.0, 62.0, 45.0, 61.0, 64.0, 50.0, 42.0, 77.0, 48.0, 51.0, 52.0, 52.0, 64.0, 24.0, 32.0, 43.0, 54.0, 67.0, 49.0, 51.0, 74.0, 61.0, 52.0, 65.0, 70.0, 50.0, 55.0, 47.0, 42.0, 65.0, 39.0, 32.0, 60.0, 43.0, 37.0, 61.0, 55.0, 53.0, 47.0, 38.0, 42.0, 66.0, 53.0, 53.0, 56.0, 66.0, 62.0, 47.0, 40.0, 53.0, 44.0, 64.0, 51.0, 46.0, 57.0, 59.0, 58.0, 58.0, 69.0, 66.0, 67.0, 12.0, 40.0, 58.0, 60.0, 58.0, 56.0, 55.0, 73.0, 70.0, 70.0, 63.0, 49.0, 44.0, 65.0, 68.0, 49.0, 58.0, 73.0, 36.0, 64.0, 54.0, 49.0, 52.0, 53.0, 54.0]\n",
      "54.82% (11.59%)\n"
     ]
    }
   ],
   "source": [
    "checkpoint = \"results/sysgqa/RPSnet\"\n",
    "\n",
    "# sesses = np.arange(0, 10)\n",
    "# sesses = np.arange(10, 410)\n",
    "sesses = np.arange(610, 710)\n",
    "\n",
    "accs, _ = get_best_model(sesses, checkpoint)\n",
    "\n",
    "print(accs)\n",
    "print(f'{np.mean(accs):.2f}% ({np.std(accs):.2f}%)')"
   ],
   "metadata": {
    "collapsed": false,
    "pycharm": {
     "name": "#%%\n"
    }
   }
  },
  {
   "cell_type": "code",
   "execution_count": 14,
   "outputs": [
    {
     "name": "stdout",
     "output_type": "stream",
     "text": [
      "[69.0, 60.0, 49.0, 43.0, 49.0, 54.0, 52.0, 48.0, 50.0, 43.0, 55.0, 21.0, 57.0, 57.0, 60.0, 47.0, 72.0, 27.0, 72.0, 48.0, 56.0, 62.0, 61.0, 46.0, 36.0, 51.0, 54.0, 46.0, 46.0, 36.0, 40.0, 45.0, 49.0, 41.0, 45.0, 41.0, 52.0, 50.0, 57.0, 38.0, 44.0, 53.0, 41.0, 35.0, 41.0, 57.0, 44.0, 36.0, 57.0, 50.0, 50.0, 48.0, 47.0, 59.0, 66.0, 47.0, 42.0, 50.0, 65.0, 44.0, 55.0, 41.0, 52.0, 43.0, 68.0, 36.0, 31.0, 40.0, 42.0, 43.0]\n",
      "48.74% (10.01%)\n"
     ]
    }
   ],
   "source": [
    "checkpoint = \"results/subgqa/RPSnet\"\n",
    "\n",
    "# sesses = np.arange(0, 10)\n",
    "sesses = np.arange(10, 80)\n",
    "# sesses = np.arange(610, 630)\n",
    "\n",
    "accs, _ = get_best_model(sesses, checkpoint)\n",
    "\n",
    "print(accs)\n",
    "print(f'{np.mean(accs):.2f}% ({np.std(accs):.2f}%)')"
   ],
   "metadata": {
    "collapsed": false,
    "pycharm": {
     "name": "#%%\n"
    }
   }
  }
 ],
 "metadata": {
  "kernelspec": {
   "display_name": "Python 3",
   "language": "python",
   "name": "python3"
  },
  "language_info": {
   "codemirror_mode": {
    "name": "ipython",
    "version": 2
   },
   "file_extension": ".py",
   "mimetype": "text/x-python",
   "name": "python",
   "nbconvert_exporter": "python",
   "pygments_lexer": "ipython2",
   "version": "2.7.6"
  }
 },
 "nbformat": 4,
 "nbformat_minor": 0
}